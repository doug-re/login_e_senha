{
  "nbformat": 4,
  "nbformat_minor": 0,
  "metadata": {
    "colab": {
      "provenance": [],
      "authorship_tag": "ABX9TyMPo7+LtcBs2JqVICm/bk+K",
      "include_colab_link": true
    },
    "kernelspec": {
      "name": "python3",
      "display_name": "Python 3"
    },
    "language_info": {
      "name": "python"
    }
  },
  "cells": [
    {
      "cell_type": "markdown",
      "metadata": {
        "id": "view-in-github",
        "colab_type": "text"
      },
      "source": [
        "<a href=\"https://colab.research.google.com/github/doug-re/login_e_senha/blob/main/login_prof_caio.ipynb\" target=\"_parent\"><img src=\"https://colab.research.google.com/assets/colab-badge.svg\" alt=\"Open In Colab\"/></a>"
      ]
    },
    {
      "cell_type": "code",
      "execution_count": null,
      "metadata": {
        "id": "u8dyxvbHfQIE"
      },
      "outputs": [],
      "source": [
        "class Nuapa:\n",
        "    def __init__(self):\n",
        "        self.emails = []\n",
        "        self.senhas = []\n",
        "        self.cells = []\n",
        "        self.tells = []\n",
        "        self.enderecos = []\n",
        "        self.num_casas = []\n",
        "\n",
        "    def cadastrar(self):\n",
        "        while True:\n",
        "            email = input('Por favor, informe seu e-mail: ')\n",
        "            senha = input('Por favor, informe sua senha: ')\n",
        "            c_senha = input('Por favor, confirme sua senha novamente: ')\n",
        "            cell = input('Por favor, informe seu número de celular: ')\n",
        "            tell = input('Por favor, informe seu número de telefone: ')\n",
        "            endereco = input('Por favor, informe seu endereço: ')\n",
        "            num_casa = input('Por favor, informe o número de sua residência ou apartamento: ')\n",
        "\n",
        "            print(\"\\nCADASTRO REALIZADO, Parabéns !!!\\n\")\n",
        "\n",
        "            self.emails.append(email)\n",
        "            self.senhas.append(senha)\n",
        "            self.cells.append(cell)\n",
        "            self.tells.append(tell)\n",
        "            self.enderecos.append(endereco)\n",
        "            self.num_casas.append(num_casa)\n",
        "\n",
        "            print(\"---)---  ---)---  ---)---  ---)--- ---)---  ---)---  ---)---    ---)--- ---)---  ---)---  ---)---  ---)--- ---)---  ---)---  ---)-- ---)-\")\n",
        "            print(\" --) ____ --  ___ -- ___    ___ ---)-________ ---)- ________ ---)-_________    ---)---  ---)---  ---)---    ---)---  ---)---  ---)--     \")\n",
        "            print(\")---|    \\---|   |--|   |  |   |--- /        \\---)-|   __  \\\\---) /         \\      ---)---  ---)---  ---)---    ---)---   ---)---  ---)--\")\n",
        "            print(\" -- |     \\--|   |--|   |  |   | --|    __    |--- |  |__|  ||-- |    __    | ---)---  ---)---  ---)---    ---)---   ---)---  ---)--     \")\n",
        "            print(\"---)|      \\-|   |--|   |  |   |---|   |__|   | ---|   ____// ---|   |__|   |      ---)---  ---)---  ---)---    ---)--- ---)---  ---)--  \")\n",
        "            print(\")---|   |\\  \\|   |--|   |__|   |---|   |  |   |)---|   |---)--- -|   |  |   |  ---)---  ---)---  ---)---    ---)---    ---)---  ---)--   \")\n",
        "            print(\"---)|   |-\\      |---\\        /---)|   |  |   |---)|   | ---)--- |   |  |   |       ---)---  ---)---  ---)---    ---)---  ---)---  ---)--\")\n",
        "            print(\")---|___|--\\_____|----\\______/---)-|___|  |___|-)--|___|---)---  |___|  |___|   ---)---  ---)---  ---)---    ---)---   ---)---  ---)--   \")\n",
        "            print(\"---)---  ---)---  ---)---    ---)--- ---)---  ---)---  ---)---    ---)--- ---)---  ---)---  ---)---    ---)--- ---)---  ---)---  ---)--  \")\n",
        "            print(\"\\nBEM VINDO AO NUAPA\\n\")\n",
        "\n",
        "            opcao = int(input(\"Qual opção você deseja? (1 - Cadastrar, 2 - Login, 3 - Finalizar): \"))\n",
        "            if opcao == 2:\n",
        "                break\n",
        "\n",
        "    def fazer_login(self):\n",
        "        while True:\n",
        "            login = input('Por favor, informe seu login: ')\n",
        "            senha = input(\"Por favor, informe sua senha: \")\n",
        "\n",
        "            senha_oculta = \"*\" * len(senha)\n",
        "\n",
        "            print(f\"Login: {login}\")\n",
        "            print(f\"Senha: {senha_oculta}\")\n",
        "\n",
        "            if login in self.emails and senha == self.senhas[self.emails.index(login)]:\n",
        "                print(f\"SEJA BEM VINDO, {login}!\")\n",
        "            else:\n",
        "                print(\"Senha ou login estão incorretos, verifique-os e tente novamente.\")\n",
        "\n",
        "            opcao = int(input(\"Qual opção você deseja? (1 - Cadastrar, 2 - Login, 3 - Finalizar): \"))\n",
        "            if opcao == 3:\n",
        "                break\n",
        "\n",
        "\n",
        "nuapa = Nuapa()\n",
        "\n",
        "print(\"Digite a opção 1 - cadastrar\")\n",
        "print(\"Digite a opção 2 - login\")\n",
        "print(\"Digite opção 3 para finalizar: \")\n",
        "opcao = int(input(\"Qual opção você deseja? \"))\n",
        "\n",
        "print(\"BEM VINDO AO NUAPA\\n\")\n",
        "\n",
        "if opcao == 1:\n",
        "    nuapa.cadastrar()\n",
        "\n",
        "if opcao == 2:\n",
        "    nuapa.fazer_login()\n",
        "\n",
        "if opcao == 3:\n",
        "    print(\"Opção 3 selecionada. Encerrando o programa.\")\n",
        "    print(\"Volte Sempre\")\n"
      ]
    }
  ]
}